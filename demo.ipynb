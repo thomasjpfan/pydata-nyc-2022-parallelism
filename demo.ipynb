{
 "cells": [
  {
   "cell_type": "code",
   "execution_count": 22,
   "id": "fb0d27ab-5d65-48c7-8a03-3c6942b82317",
   "metadata": {},
   "outputs": [],
   "source": [
    "import numpy as np\n",
    "\n",
    "rng = np.random.default_rng(42)\n",
    "\n",
    "X = rng.standard_normal(size=(50_000, 10_000))"
   ]
  },
  {
   "cell_type": "markdown",
   "id": "fcebca7f-bf9d-4470-8e24-a43697191d73",
   "metadata": {},
   "source": [
    "# np.sum"
   ]
  },
  {
   "cell_type": "code",
   "execution_count": 3,
   "id": "2e3c710a-03e9-4788-b3a6-1b6250152f8f",
   "metadata": {},
   "outputs": [
    {
     "name": "stdout",
     "output_type": "stream",
     "text": [
      "94.7 ms ± 2.59 ms per loop (mean ± std. dev. of 5 runs, 20 loops each)\n"
     ]
    }
   ],
   "source": [
    "%%timeit -n 20 -r 5\n",
    "\n",
    "np.sum(X, axis=1)"
   ]
  },
  {
   "cell_type": "code",
   "execution_count": null,
   "id": "5b3cbcd7-59ae-4c82-84c8-4d5b01911cbd",
   "metadata": {},
   "outputs": [],
   "source": []
  },
  {
   "cell_type": "code",
   "execution_count": null,
   "id": "f457f58c-6b41-42ca-b275-6377f1c68a11",
   "metadata": {},
   "outputs": [],
   "source": []
  },
  {
   "cell_type": "code",
   "execution_count": null,
   "id": "35d530e6-d2dd-4824-8dcb-62b4efab913c",
   "metadata": {},
   "outputs": [],
   "source": []
  },
  {
   "cell_type": "markdown",
   "id": "98aef74a-1a81-456b-945d-37e5d3372e8e",
   "metadata": {},
   "source": [
    "# @"
   ]
  },
  {
   "cell_type": "code",
   "execution_count": 4,
   "id": "a5a0b1fa-fb08-4be5-b0a8-63890f332749",
   "metadata": {},
   "outputs": [],
   "source": [
    "Y = rng.standard_normal(size=(10_000, 2_000))"
   ]
  },
  {
   "cell_type": "code",
   "execution_count": 6,
   "id": "c569a73d-7c03-4ac7-8260-341439c2ee71",
   "metadata": {},
   "outputs": [],
   "source": [
    "Z = X @ Y"
   ]
  },
  {
   "cell_type": "code",
   "execution_count": null,
   "id": "e8ff261d-90e5-48f7-bb3f-e3b01fd5eef2",
   "metadata": {},
   "outputs": [],
   "source": []
  },
  {
   "cell_type": "code",
   "execution_count": null,
   "id": "4231774b-1387-4ef2-bb46-366f9da1f5cd",
   "metadata": {},
   "outputs": [],
   "source": []
  },
  {
   "cell_type": "code",
   "execution_count": null,
   "id": "691acd7e-bd16-4f57-9eae-a384513677e6",
   "metadata": {},
   "outputs": [],
   "source": []
  },
  {
   "cell_type": "markdown",
   "id": "f13c6ec8-05e9-46d9-b001-81878ab885fc",
   "metadata": {},
   "source": [
    "## How to run `add` in parallel?"
   ]
  },
  {
   "cell_type": "markdown",
   "id": "4cc8f6d1-d628-470c-9c6a-dc38c29a46bc",
   "metadata": {},
   "source": [
    "## Numba"
   ]
  },
  {
   "cell_type": "code",
   "execution_count": 41,
   "id": "bda16217-dc3b-4394-a46a-6d58a4cd5969",
   "metadata": {},
   "outputs": [],
   "source": [
    "from numba import njit, prange"
   ]
  },
  {
   "cell_type": "code",
   "execution_count": 42,
   "id": "0039b6a6-2ea2-4b64-85f7-d01426c54590",
   "metadata": {},
   "outputs": [],
   "source": [
    "@njit(parallel=True)\n",
    "def numba_sum_axis_1(X):\n",
    "    rows, cols = X.shape\n",
    "    out = np.zeros(rows)\n",
    "    \n",
    "    for i in prange(rows):\n",
    "        for j in range(cols):\n",
    "            out[i] += X[i][j]\n",
    "    return out"
   ]
  },
  {
   "cell_type": "code",
   "execution_count": 44,
   "id": "3e36ea64-5f88-474b-bf67-6068276fe536",
   "metadata": {},
   "outputs": [
    {
     "name": "stdout",
     "output_type": "stream",
     "text": [
      "2.4 ms ± 173 µs per loop (mean ± std. dev. of 5 runs, 20 loops each)\n"
     ]
    }
   ],
   "source": [
    "%%timeit -n 20 -r 5\n",
    "\n",
    "numba_sum_axis_1(X)"
   ]
  },
  {
   "cell_type": "code",
   "execution_count": null,
   "id": "6af8e707-82f2-4a83-a10c-9e6da9e98d55",
   "metadata": {},
   "outputs": [],
   "source": []
  },
  {
   "cell_type": "code",
   "execution_count": null,
   "id": "acc95a80-b6d8-4475-8bb0-555830b4fa5b",
   "metadata": {},
   "outputs": [],
   "source": []
  },
  {
   "cell_type": "code",
   "execution_count": null,
   "id": "09eb8c26-8460-4023-91a7-42d7d0f899c1",
   "metadata": {},
   "outputs": [],
   "source": []
  },
  {
   "cell_type": "markdown",
   "id": "c3c557fd-e205-405c-b20c-62f0150b0d98",
   "metadata": {},
   "source": [
    "## Pytorch"
   ]
  },
  {
   "cell_type": "code",
   "execution_count": 10,
   "id": "4c70f9df-5424-40a8-8094-be0ec4dbe699",
   "metadata": {},
   "outputs": [],
   "source": [
    "import torch"
   ]
  },
  {
   "cell_type": "code",
   "execution_count": 11,
   "id": "42cd9efc-c275-4926-af86-bca820c55b86",
   "metadata": {},
   "outputs": [],
   "source": [
    "def torch_sum(X, axis):\n",
    "    X_torch = torch.asarray(X)\n",
    "    \n",
    "    X_sum = torch.sum(X_torch, dim=axis)\n",
    "    \n",
    "    return np.asarray(X_sum)"
   ]
  },
  {
   "cell_type": "code",
   "execution_count": 23,
   "id": "8ffbe92b-bed4-4139-ab4d-2e511c0a8874",
   "metadata": {},
   "outputs": [
    {
     "name": "stdout",
     "output_type": "stream",
     "text": [
      "33.3 ms ± 924 µs per loop (mean ± std. dev. of 5 runs, 20 loops each)\n"
     ]
    }
   ],
   "source": [
    "%%timeit -n 20 -r 5\n",
    "\n",
    "torch_sum(X, axis=1)"
   ]
  },
  {
   "cell_type": "code",
   "execution_count": null,
   "id": "23aac00c-26d1-4d95-8254-5566e081cefd",
   "metadata": {},
   "outputs": [],
   "source": []
  },
  {
   "cell_type": "code",
   "execution_count": null,
   "id": "227782b8-e5f1-4d47-8a2c-e84cb2e0eeaa",
   "metadata": {},
   "outputs": [],
   "source": []
  },
  {
   "cell_type": "code",
   "execution_count": 27,
   "id": "8af471d1-97bd-4f11-a0df-9ae4deb27509",
   "metadata": {},
   "outputs": [],
   "source": [
    "from threadpoolctl import threadpool_limits"
   ]
  },
  {
   "cell_type": "code",
   "execution_count": 31,
   "id": "d133cb44-f6e1-4233-a18f-528751b84d34",
   "metadata": {},
   "outputs": [
    {
     "name": "stdout",
     "output_type": "stream",
     "text": [
      "66.7 ms ± 321 µs per loop (mean ± std. dev. of 5 runs, 20 loops each)\n"
     ]
    }
   ],
   "source": [
    "%%timeit -n 20 -r 5\n",
    "\n",
    "with threadpool_limits(limits=1, user_api=\"openmp\"):\n",
    "    torch_sum(X, axis=1)"
   ]
  },
  {
   "cell_type": "code",
   "execution_count": null,
   "id": "d0d1b57c-3b04-48c1-9cf3-e76ba6eccbe3",
   "metadata": {},
   "outputs": [],
   "source": []
  },
  {
   "cell_type": "code",
   "execution_count": null,
   "id": "b9770a02-e182-4980-91c5-781b1d5a38d6",
   "metadata": {},
   "outputs": [],
   "source": []
  },
  {
   "cell_type": "markdown",
   "id": "70044106-2862-417a-94c8-86baa262c141",
   "metadata": {},
   "source": [
    "## Pandas!"
   ]
  },
  {
   "cell_type": "code",
   "execution_count": 32,
   "id": "9211ee7e-7fdf-4a31-97c9-61881c782b56",
   "metadata": {},
   "outputs": [],
   "source": [
    "import pandas as pd\n",
    "rng = np.random.default_rng(0)\n",
    "X = rng.poisson(lam=3.0, size=(1_000_000, 10))"
   ]
  },
  {
   "cell_type": "code",
   "execution_count": 33,
   "id": "9979027d-4ee2-431e-a2d6-ddfdec08cae3",
   "metadata": {},
   "outputs": [],
   "source": [
    "data = pd.DataFrame(X)\n",
    "roll = data.rolling(100)"
   ]
  },
  {
   "cell_type": "markdown",
   "id": "e0b4d9f7-dabd-4d77-8f12-6f27cb55591d",
   "metadata": {},
   "source": [
    "### Default Pandas"
   ]
  },
  {
   "cell_type": "code",
   "execution_count": 37,
   "id": "af644297-28b9-43cf-9056-b1f93a9d7c25",
   "metadata": {},
   "outputs": [
    {
     "name": "stdout",
     "output_type": "stream",
     "text": [
      "143 ms ± 350 µs per loop (mean ± std. dev. of 3 runs, 10 loops each)\n"
     ]
    }
   ],
   "source": [
    "%%timeit -n 10 -r 3\n",
    "_ = roll.mean()"
   ]
  },
  {
   "cell_type": "code",
   "execution_count": null,
   "id": "b867bb4e-c2f0-4534-97af-6940d3adccc7",
   "metadata": {},
   "outputs": [],
   "source": []
  },
  {
   "cell_type": "code",
   "execution_count": null,
   "id": "9724bb66-722c-499f-bcf2-3d36b8f321e7",
   "metadata": {},
   "outputs": [],
   "source": []
  },
  {
   "cell_type": "markdown",
   "id": "c8a99b4c-371f-46d6-aa85-b897d4217833",
   "metadata": {},
   "source": [
    "### Numba with Parallel"
   ]
  },
  {
   "cell_type": "code",
   "execution_count": 40,
   "id": "aa45f1bb-6327-4b44-abab-7531295877d9",
   "metadata": {},
   "outputs": [
    {
     "name": "stdout",
     "output_type": "stream",
     "text": [
      "38.4 ms ± 622 µs per loop (mean ± std. dev. of 10 runs, 20 loops each)\n"
     ]
    }
   ],
   "source": [
    "%%timeit -n 20 -r 10\n",
    "_ = roll.mean(engine=\"numba\", engine_kwargs={\"parallel\":True})"
   ]
  }
 ],
 "metadata": {
  "kernelspec": {
   "display_name": "Python 3 (ipykernel)",
   "language": "python",
   "name": "python3"
  },
  "language_info": {
   "codemirror_mode": {
    "name": "ipython",
    "version": 3
   },
   "file_extension": ".py",
   "mimetype": "text/x-python",
   "name": "python",
   "nbconvert_exporter": "python",
   "pygments_lexer": "ipython3",
   "version": "3.10.6"
  }
 },
 "nbformat": 4,
 "nbformat_minor": 5
}
