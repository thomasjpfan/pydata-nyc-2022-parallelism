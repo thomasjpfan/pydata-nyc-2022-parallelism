{
 "cells": [
  {
   "cell_type": "code",
   "execution_count": null,
   "id": "fb0d27ab-5d65-48c7-8a03-3c6942b82317",
   "metadata": {},
   "outputs": [],
   "source": [
    "import numpy as np\n",
    "\n",
    "rng = np.random.default_rng(42)\n",
    "\n",
    "X = rng.standard_normal(size=(50_000, 10_000))"
   ]
  },
  {
   "cell_type": "markdown",
   "id": "fcebca7f-bf9d-4470-8e24-a43697191d73",
   "metadata": {},
   "source": [
    "# np.sum"
   ]
  },
  {
   "cell_type": "code",
   "execution_count": null,
   "id": "2e3c710a-03e9-4788-b3a6-1b6250152f8f",
   "metadata": {},
   "outputs": [],
   "source": [
    "%%timeit -n 20 -r 5\n",
    "\n",
    "np.sum(X, axis=1)"
   ]
  },
  {
   "cell_type": "code",
   "execution_count": null,
   "id": "253518f7-cc34-4711-bec4-8e904c2e73b1",
   "metadata": {},
   "outputs": [],
   "source": []
  },
  {
   "cell_type": "code",
   "execution_count": null,
   "id": "5b3cbcd7-59ae-4c82-84c8-4d5b01911cbd",
   "metadata": {},
   "outputs": [],
   "source": []
  },
  {
   "cell_type": "code",
   "execution_count": null,
   "id": "f457f58c-6b41-42ca-b275-6377f1c68a11",
   "metadata": {},
   "outputs": [],
   "source": []
  },
  {
   "cell_type": "code",
   "execution_count": null,
   "id": "35d530e6-d2dd-4824-8dcb-62b4efab913c",
   "metadata": {},
   "outputs": [],
   "source": []
  },
  {
   "cell_type": "markdown",
   "id": "98aef74a-1a81-456b-945d-37e5d3372e8e",
   "metadata": {},
   "source": [
    "# @"
   ]
  },
  {
   "cell_type": "code",
   "execution_count": null,
   "id": "a5a0b1fa-fb08-4be5-b0a8-63890f332749",
   "metadata": {},
   "outputs": [],
   "source": [
    "Y = rng.standard_normal(size=(10_000, 2_000))"
   ]
  },
  {
   "cell_type": "code",
   "execution_count": null,
   "id": "c569a73d-7c03-4ac7-8260-341439c2ee71",
   "metadata": {},
   "outputs": [],
   "source": [
    "Z = X @ Y"
   ]
  },
  {
   "cell_type": "code",
   "execution_count": null,
   "id": "e8ff261d-90e5-48f7-bb3f-e3b01fd5eef2",
   "metadata": {},
   "outputs": [],
   "source": []
  },
  {
   "cell_type": "code",
   "execution_count": null,
   "id": "4231774b-1387-4ef2-bb46-366f9da1f5cd",
   "metadata": {},
   "outputs": [],
   "source": []
  },
  {
   "cell_type": "code",
   "execution_count": null,
   "id": "691acd7e-bd16-4f57-9eae-a384513677e6",
   "metadata": {},
   "outputs": [],
   "source": []
  },
  {
   "cell_type": "markdown",
   "id": "f13c6ec8-05e9-46d9-b001-81878ab885fc",
   "metadata": {},
   "source": [
    "## How to run `add` in parallel?"
   ]
  },
  {
   "cell_type": "markdown",
   "id": "b1ac320a-06a0-41e9-aa71-3949dd7bf69d",
   "metadata": {},
   "source": [
    "### Using Numba"
   ]
  },
  {
   "cell_type": "code",
   "execution_count": null,
   "id": "ec5e2c62-8748-4961-afae-6f10d751d1b2",
   "metadata": {},
   "outputs": [],
   "source": [
    "from numba import njit, prange"
   ]
  },
  {
   "cell_type": "code",
   "execution_count": null,
   "id": "7b60e954-c8b9-4af0-a780-370c0adfa2cf",
   "metadata": {},
   "outputs": [],
   "source": [
    "@njit(parallel=True)\n",
    "def numba_sum_axis_1(X):\n",
    "    rows, cols = X.shape\n",
    "    out = np.zeros(rows)\n",
    "    \n",
    "    for i in prange(rows):\n",
    "        for j in range(cols):\n",
    "            out[i] += X[i][j]\n",
    "    return out"
   ]
  },
  {
   "cell_type": "code",
   "execution_count": null,
   "id": "a860859e-1b53-43e5-9f18-b33391e5f99a",
   "metadata": {},
   "outputs": [],
   "source": [
    "%%timeit -n 20 -r 5\n",
    "\n",
    "numba_sum_axis_1(X)"
   ]
  },
  {
   "cell_type": "code",
   "execution_count": null,
   "id": "fa873c80-e465-45a4-a865-1678ff1c706e",
   "metadata": {},
   "outputs": [],
   "source": []
  },
  {
   "cell_type": "code",
   "execution_count": null,
   "id": "8a0c0cbc-0744-44e7-95e2-8455428aecaf",
   "metadata": {},
   "outputs": [],
   "source": []
  },
  {
   "cell_type": "markdown",
   "id": "c3c557fd-e205-405c-b20c-62f0150b0d98",
   "metadata": {},
   "source": [
    "## Pytorch"
   ]
  },
  {
   "cell_type": "code",
   "execution_count": null,
   "id": "4c70f9df-5424-40a8-8094-be0ec4dbe699",
   "metadata": {},
   "outputs": [],
   "source": [
    "import torch"
   ]
  },
  {
   "cell_type": "code",
   "execution_count": null,
   "id": "22cdd4d1-da4d-4fae-a00e-277a9963dc95",
   "metadata": {},
   "outputs": [],
   "source": [
    "import numpy as np\n",
    "\n",
    "rng = np.random.default_rng(42)\n",
    "X = rng.standard_normal(size=(50_000, 10_000))"
   ]
  },
  {
   "cell_type": "code",
   "execution_count": null,
   "id": "42cd9efc-c275-4926-af86-bca820c55b86",
   "metadata": {},
   "outputs": [],
   "source": [
    "def torch_sum(X, axis):\n",
    "    X_torch = torch.asarray(X)\n",
    "    X_sum = torch.sum(X_torch, dim=axis)\n",
    "    \n",
    "    return np.asarray(X_sum)"
   ]
  },
  {
   "cell_type": "code",
   "execution_count": null,
   "id": "8ffbe92b-bed4-4139-ab4d-2e511c0a8874",
   "metadata": {},
   "outputs": [],
   "source": [
    "%%timeit -n 20 -r 5\n",
    "\n",
    "torch_sum(X, axis=1)"
   ]
  },
  {
   "cell_type": "code",
   "execution_count": null,
   "id": "349a5870-4a5e-4d57-aa87-54f06a14a1c3",
   "metadata": {},
   "outputs": [],
   "source": []
  },
  {
   "cell_type": "code",
   "execution_count": null,
   "id": "d475cd75-2a27-47e5-a120-6a2dfb3eb40f",
   "metadata": {},
   "outputs": [],
   "source": []
  },
  {
   "cell_type": "code",
   "execution_count": null,
   "id": "8a5d130b-2856-40ab-a2ab-145a39c74618",
   "metadata": {},
   "outputs": [],
   "source": []
  },
  {
   "cell_type": "code",
   "execution_count": null,
   "id": "a6a96338-7bbc-4ef0-ba73-73584ad151c6",
   "metadata": {},
   "outputs": [],
   "source": []
  },
  {
   "cell_type": "markdown",
   "id": "70044106-2862-417a-94c8-86baa262c141",
   "metadata": {},
   "source": [
    "## Pandas!"
   ]
  },
  {
   "cell_type": "code",
   "execution_count": null,
   "id": "9211ee7e-7fdf-4a31-97c9-61881c782b56",
   "metadata": {},
   "outputs": [],
   "source": [
    "import pandas as pd\n",
    "rng = np.random.default_rng(0)\n",
    "X = rng.poisson(lam=3.0, size=(1_000_000, 10))"
   ]
  },
  {
   "cell_type": "code",
   "execution_count": null,
   "id": "9979027d-4ee2-431e-a2d6-ddfdec08cae3",
   "metadata": {},
   "outputs": [],
   "source": [
    "data = pd.DataFrame(X)\n",
    "roll = data.rolling(100)"
   ]
  },
  {
   "cell_type": "code",
   "execution_count": null,
   "id": "264b0fd0-df3e-400a-80e7-532fff15be94",
   "metadata": {},
   "outputs": [],
   "source": []
  },
  {
   "cell_type": "markdown",
   "id": "e0b4d9f7-dabd-4d77-8f12-6f27cb55591d",
   "metadata": {},
   "source": [
    "### Default Pandas"
   ]
  },
  {
   "cell_type": "code",
   "execution_count": null,
   "id": "af644297-28b9-43cf-9056-b1f93a9d7c25",
   "metadata": {},
   "outputs": [],
   "source": [
    "%%timeit -n 10 -r 1\n",
    "_ = roll.mean()"
   ]
  },
  {
   "cell_type": "markdown",
   "id": "c8449e70-cbf3-42b8-a2ee-01f189a54661",
   "metadata": {},
   "source": [
    "### Numba only"
   ]
  },
  {
   "cell_type": "code",
   "execution_count": null,
   "id": "ea68a60a-9a8a-4fa6-8ba1-bd743fd004c1",
   "metadata": {},
   "outputs": [],
   "source": [
    "%%timeit -n 10 -r 1\n",
    "_ = roll.mean(engine=\"numba\")"
   ]
  },
  {
   "cell_type": "markdown",
   "id": "c8a99b4c-371f-46d6-aa85-b897d4217833",
   "metadata": {},
   "source": [
    "### Numba with Parallel"
   ]
  },
  {
   "cell_type": "code",
   "execution_count": null,
   "id": "aa45f1bb-6327-4b44-abab-7531295877d9",
   "metadata": {},
   "outputs": [],
   "source": [
    "%%timeit -n 30 -r 10\n",
    "_ = roll.mean(engine=\"numba\", engine_kwargs={\"parallel\":True})"
   ]
  },
  {
   "cell_type": "code",
   "execution_count": null,
   "id": "e028f806-41b3-4726-ab84-eb0cbd6fac5e",
   "metadata": {},
   "outputs": [],
   "source": []
  }
 ],
 "metadata": {
  "kernelspec": {
   "display_name": "Python 3 (ipykernel)",
   "language": "python",
   "name": "python3"
  },
  "language_info": {
   "codemirror_mode": {
    "name": "ipython",
    "version": 3
   },
   "file_extension": ".py",
   "mimetype": "text/x-python",
   "name": "python",
   "nbconvert_exporter": "python",
   "pygments_lexer": "ipython3",
   "version": "3.10.6"
  }
 },
 "nbformat": 4,
 "nbformat_minor": 5
}
